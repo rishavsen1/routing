{
 "cells": [
  {
   "cell_type": "code",
   "execution_count": 52,
   "metadata": {},
   "outputs": [
    {
     "name": "stdout",
     "output_type": "stream",
     "text": [
      "GEOID: 470650103041\n"
     ]
    }
   ],
   "source": [
    "def string_to_geoid(input_string, state_fips_mapping, county_fips_mapping):\n",
    "    \"\"\"\n",
    "    Convert a descriptive string to a GEOID.\n",
    "\n",
    "    Parameters:\n",
    "    input_string (str): A string in the format \"Block Group X; Census Tract YYY.YY; County Name; State Name\".\n",
    "    state_fips_mapping (dict): A dictionary mapping state names to their FIPS codes.\n",
    "    county_fips_mapping (dict): A dictionary mapping county names and state names to their FIPS codes.\n",
    "\n",
    "    Returns:\n",
    "    str: A 12-digit GEOID.\n",
    "    \"\"\"\n",
    "    # Split the input string and extract relevant parts\n",
    "    parts = input_string.split('; ')\n",
    "    block_group = parts[0].split(' ')[2]\n",
    "    census_tract = parts[1].split(' ')[2]\n",
    "    county_name = parts[2]\n",
    "    state_name = parts[3]\n",
    "\n",
    "    # Get the state FIPS code\n",
    "    state_fips = state_fips_mapping.get(state_name)\n",
    "\n",
    "    # Get the county FIPS code\n",
    "    county_fips = county_fips_mapping.get((county_name, state_name))\n",
    "\n",
    "    # Format the census tract as a 6-digit number\n",
    "    tract_fips = f\"{int(census_tract.split('.')[0]):04d}{int(census_tract.split('.')[1]):02d}\"\n",
    "\n",
    "    # Concatenate the parts to form the GEOID\n",
    "    geoid = f\"{state_fips}{county_fips}{tract_fips}{block_group}\"\n",
    "\n",
    "    return geoid\n",
    "\n",
    "# Example usage\n",
    "input_string = \"Block Group 1; Census Tract 103.04; Hamilton County; Tennessee\"\n",
    "state_fips_mapping = {\"Tennessee\": \"47\"}\n",
    "county_fips_mapping = {(\"Hamilton County\", \"Tennessee\"): \"065\"}\n",
    "\n",
    "geoid = string_to_geoid(input_string, state_fips_mapping, county_fips_mapping)\n",
    "print(\"GEOID:\", geoid)\n"
   ]
  },
  {
   "cell_type": "code",
   "execution_count": 98,
   "metadata": {},
   "outputs": [],
   "source": [
    "import pandas as pd\n",
    "pd.set_option('display.max_columns', None)\n",
    "\n",
    "income  = pd.read_csv('/home/rishav/Programs/routing/data/ACSDT5Y2022.B19013-Data.csv')[1:]\n",
    "income['GEOID'] = income['GEO_ID'].apply(lambda x: x.split('US')[1] if len(x.split('US')) > 1 else None)\n",
    "income = income.rename({'B19013_001E': 'median_income', 'B19013_001M': 'margin'}, axis=1)\n",
    "income = income[['GEOID', 'median_income', 'margin']]"
   ]
  },
  {
   "cell_type": "markdown",
   "metadata": {},
   "source": [
    "## combine with OD data"
   ]
  },
  {
   "cell_type": "code",
   "execution_count": 113,
   "metadata": {},
   "outputs": [
    {
     "name": "stderr",
     "output_type": "stream",
     "text": [
      "/tmp/ipykernel_95766/490244206.py:2: DtypeWarning: Columns (32) have mixed types. Specify dtype option on import or set low_memory=False.\n",
      "  od = pd.read_csv(f'/home/rishav/Programs/routing/outputs/{OD_PATH}.csv', index_col=0)\n"
     ]
    }
   ],
   "source": [
    "OD_PATH = 'lodes_2021-01-05_transit_drive2'\n",
    "od = pd.read_csv(f'/home/rishav/Programs/routing/outputs/{OD_PATH}.csv', index_col=0)\n",
    "od['h_geocode'] = od['h_geocode'].astype(str)\n",
    "od['w_geocode'] = od['w_geocode'].astype(str)"
   ]
  },
  {
   "cell_type": "code",
   "execution_count": 137,
   "metadata": {},
   "outputs": [],
   "source": [
    "merged = od.merge(income, left_on='h_geocode', right_on='GEOID')\n",
    "merged = merged[merged['transit_time'] > merged['drive_time']]\n",
    "merged = merged[merged['walk_time'] > merged['drive_time']]\n",
    "merged = merged[merged['walk_time'] >= merged['transit_time']]\n",
    "\n",
    "merged.to_csv(f'./outputs/{OD_PATH}_demographics.csv')"
   ]
  },
  {
   "cell_type": "code",
   "execution_count": null,
   "metadata": {},
   "outputs": [],
   "source": []
  },
  {
   "cell_type": "code",
   "execution_count": 136,
   "metadata": {},
   "outputs": [
    {
     "data": {
      "text/plain": [
       "(85941, 37)"
      ]
     },
     "execution_count": 136,
     "metadata": {},
     "output_type": "execute_result"
    }
   ],
   "source": [
    "merged[(merged['transit_time'] > merged['drive_time']) & (merged['walk_time'] > merged['drive_time']) & (merged['walk_time'] > merged['transit_time'])].shape\n",
    "merged[(merged['walk_time'] >= merged['transit_time'])].shape"
   ]
  },
  {
   "cell_type": "code",
   "execution_count": null,
   "metadata": {},
   "outputs": [],
   "source": [
    "http://localhost:8080/otp/routers/default/plan?fromPlace=35.09853204177831,-85.18603221829812&toPlace=35.05385455080387,-85.18299704965646&mode=CAR&date=10-09-2023&time=10:21:00&maxWalkDistance=750\n",
    "http://localhost:8080/otp/routers/default/plan?fromPlace=35.09853204177831,-85.18603221829812&toPlace=35.05385455080387,-85.18299704965646&mode=WALK,TRANSIT&date=10-09-2023&time=10:21:00&maxWalkDistance=750\n",
    "\n",
    "http://localhost:8080/otp/routers/default/plan?fromPlace=35.026049682206924,-85.28455717057061&toPlace=35.05220859755195,85.3179341129915&mode=WALK&date=10-09-2023&time=10:21:00&maxWalkDistance=750"
   ]
  }
 ],
 "metadata": {
  "kernelspec": {
   "display_name": ".venv",
   "language": "python",
   "name": "python3"
  },
  "language_info": {
   "codemirror_mode": {
    "name": "ipython",
    "version": 3
   },
   "file_extension": ".py",
   "mimetype": "text/x-python",
   "name": "python",
   "nbconvert_exporter": "python",
   "pygments_lexer": "ipython3",
   "version": "3.10.12"
  }
 },
 "nbformat": 4,
 "nbformat_minor": 2
}
