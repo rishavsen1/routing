{
 "cells": [
  {
   "cell_type": "code",
   "execution_count": 2,
   "metadata": {},
   "outputs": [],
   "source": [
    "import pandas as pd\n",
    "from datetime import datetime, timedelta"
   ]
  },
  {
   "cell_type": "code",
   "execution_count": 6,
   "metadata": {},
   "outputs": [],
   "source": [
    "def calculate_time_windows(df):\n",
    "    time_format = \"%H:%M:%S\"\n",
    "    for index, row in df.iterrows():\n",
    "        pickup_time = datetime.strptime(row['pickup_time_0'], time_format)\n",
    "        drive_time = timedelta(seconds=row['drive_time'])\n",
    "\n",
    "        # Start of pickup window (30 minutes before pickup time)\n",
    "        df.at[index, 'start_pickup_window'] = (pickup_time - timedelta(minutes=30)).time()\n",
    "\n",
    "        # End of pickup window (at the pickup time)\n",
    "        df.at[index, 'end_pickup_window'] = pickup_time.time()\n",
    "\n",
    "        # Start of drop-off window (pickup time + drive time)\n",
    "        df.at[index, 'start_dropoff_window'] = (pickup_time + drive_time).time()\n",
    "\n",
    "        # End of drop-off window (30 minutes after start of drop-off window)\n",
    "        df.at[index, 'end_dropoff_window'] = (pickup_time + drive_time + timedelta(minutes=30)).time()\n",
    "\n",
    "    return df\n"
   ]
  },
  {
   "cell_type": "code",
   "execution_count": 8,
   "metadata": {},
   "outputs": [],
   "source": [
    "df = pd.read_csv('/home/rishav/Programs/routing/outputs/lodes_2021-01-06_transit_drive2_demographics.csv', index_col=0)\n",
    "df_with_windows = calculate_time_windows(df)\n",
    "df_with_windows.to_csv('./outputs/lodes_2021-01-06_transit_drive2_demographic_TW.csv')"
   ]
  }
 ],
 "metadata": {
  "kernelspec": {
   "display_name": ".venv",
   "language": "python",
   "name": "python3"
  },
  "language_info": {
   "codemirror_mode": {
    "name": "ipython",
    "version": 3
   },
   "file_extension": ".py",
   "mimetype": "text/x-python",
   "name": "python",
   "nbconvert_exporter": "python",
   "pygments_lexer": "ipython3",
   "version": "3.10.12"
  }
 },
 "nbformat": 4,
 "nbformat_minor": 2
}
